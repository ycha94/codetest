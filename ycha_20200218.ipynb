{
  "nbformat": 4,
  "nbformat_minor": 0,
  "metadata": {
    "colab": {
      "name": "ycha_20200218.ipynb",
      "provenance": [],
      "authorship_tag": "ABX9TyM8ydJdokLnGzYA0+dzPGOY",
      "include_colab_link": true
    },
    "kernelspec": {
      "name": "python3",
      "display_name": "Python 3"
    }
  },
  "cells": [
    {
      "cell_type": "markdown",
      "metadata": {
        "id": "view-in-github",
        "colab_type": "text"
      },
      "source": [
        "<a href=\"https://colab.research.google.com/github/ycha94/codetest/blob/master/ycha_20200218.ipynb\" target=\"_parent\"><img src=\"https://colab.research.google.com/assets/colab-badge.svg\" alt=\"Open In Colab\"/></a>"
      ]
    },
    {
      "cell_type": "code",
      "metadata": {
        "id": "PbeNjIuGFSh1",
        "colab_type": "code",
        "colab": {
          "base_uri": "https://localhost:8080/",
          "height": 35
        },
        "outputId": "9d225d62-e29d-4c5b-9008-e7f415982634"
      },
      "source": [
        "import sys\n",
        "sys.version_info"
      ],
      "execution_count": 1,
      "outputs": [
        {
          "output_type": "execute_result",
          "data": {
            "text/plain": [
              "sys.version_info(major=3, minor=6, micro=9, releaselevel='final', serial=0)"
            ]
          },
          "metadata": {
            "tags": []
          },
          "execution_count": 1
        }
      ]
    },
    {
      "cell_type": "code",
      "metadata": {
        "id": "UwG8ef3mFm-6",
        "colab_type": "code",
        "colab": {
          "base_uri": "https://localhost:8080/",
          "height": 190
        },
        "outputId": "32d49805-d836-466b-d5e9-c39b54727d28"
      },
      "source": [
        "!df -h\n"
      ],
      "execution_count": 2,
      "outputs": [
        {
          "output_type": "stream",
          "text": [
            "Filesystem      Size  Used Avail Use% Mounted on\n",
            "overlay         108G   29G   74G  28% /\n",
            "tmpfs            64M     0   64M   0% /dev\n",
            "tmpfs           6.4G     0  6.4G   0% /sys/fs/cgroup\n",
            "tmpfs           6.4G  8.0K  6.4G   1% /var/colab\n",
            "/dev/sda1       114G   30G   85G  27% /etc/hosts\n",
            "shm             6.0G  4.0K  6.0G   1% /dev/shm\n",
            "tmpfs           6.4G     0  6.4G   0% /proc/acpi\n",
            "tmpfs           6.4G     0  6.4G   0% /proc/scsi\n",
            "tmpfs           6.4G     0  6.4G   0% /sys/firmware\n"
          ],
          "name": "stdout"
        }
      ]
    },
    {
      "cell_type": "code",
      "metadata": {
        "id": "D4-wdt-1F2r0",
        "colab_type": "code",
        "colab": {
          "base_uri": "https://localhost:8080/",
          "height": 795
        },
        "outputId": "63d38a2d-6bc5-4b1c-9945-58ff6f2730e4"
      },
      "source": [
        "!cat /proc/meminfo"
      ],
      "execution_count": 3,
      "outputs": [
        {
          "output_type": "stream",
          "text": [
            "MemTotal:       13335188 kB\n",
            "MemFree:        10822772 kB\n",
            "MemAvailable:   12509352 kB\n",
            "Buffers:           72804 kB\n",
            "Cached:          1771828 kB\n",
            "SwapCached:            0 kB\n",
            "Active:           695780 kB\n",
            "Inactive:        1572968 kB\n",
            "Active(anon):     402220 kB\n",
            "Inactive(anon):      316 kB\n",
            "Active(file):     293560 kB\n",
            "Inactive(file):  1572652 kB\n",
            "Unevictable:           0 kB\n",
            "Mlocked:               0 kB\n",
            "SwapTotal:             0 kB\n",
            "SwapFree:              0 kB\n",
            "Dirty:               316 kB\n",
            "Writeback:             0 kB\n",
            "AnonPages:        424076 kB\n",
            "Mapped:           216436 kB\n",
            "Shmem:               848 kB\n",
            "Slab:             153468 kB\n",
            "SReclaimable:     122720 kB\n",
            "SUnreclaim:        30748 kB\n",
            "KernelStack:        3488 kB\n",
            "PageTables:         5404 kB\n",
            "NFS_Unstable:          0 kB\n",
            "Bounce:                0 kB\n",
            "WritebackTmp:          0 kB\n",
            "CommitLimit:     6667592 kB\n",
            "Committed_AS:    2735500 kB\n",
            "VmallocTotal:   34359738367 kB\n",
            "VmallocUsed:           0 kB\n",
            "VmallocChunk:          0 kB\n",
            "AnonHugePages:         0 kB\n",
            "ShmemHugePages:        0 kB\n",
            "ShmemPmdMapped:        0 kB\n",
            "HugePages_Total:       0\n",
            "HugePages_Free:        0\n",
            "HugePages_Rsvd:        0\n",
            "HugePages_Surp:        0\n",
            "Hugepagesize:       2048 kB\n",
            "DirectMap4k:       63476 kB\n",
            "DirectMap2M:     6227968 kB\n",
            "DirectMap1G:     9437184 kB\n"
          ],
          "name": "stdout"
        }
      ]
    },
    {
      "cell_type": "code",
      "metadata": {
        "id": "992x8r9-GEgF",
        "colab_type": "code",
        "colab": {
          "base_uri": "https://localhost:8080/",
          "height": 970
        },
        "outputId": "fad837b4-2e96-4922-b95b-627e8ac93d2b"
      },
      "source": [
        "!cat /proc/cpuinfo\n"
      ],
      "execution_count": 4,
      "outputs": [
        {
          "output_type": "stream",
          "text": [
            "processor\t: 0\n",
            "vendor_id\t: GenuineIntel\n",
            "cpu family\t: 6\n",
            "model\t\t: 63\n",
            "model name\t: Intel(R) Xeon(R) CPU @ 2.30GHz\n",
            "stepping\t: 0\n",
            "microcode\t: 0x1\n",
            "cpu MHz\t\t: 2300.000\n",
            "cache size\t: 46080 KB\n",
            "physical id\t: 0\n",
            "siblings\t: 2\n",
            "core id\t\t: 0\n",
            "cpu cores\t: 1\n",
            "apicid\t\t: 0\n",
            "initial apicid\t: 0\n",
            "fpu\t\t: yes\n",
            "fpu_exception\t: yes\n",
            "cpuid level\t: 13\n",
            "wp\t\t: yes\n",
            "flags\t\t: fpu vme de pse tsc msr pae mce cx8 apic sep mtrr pge mca cmov pat pse36 clflush mmx fxsr sse sse2 ss ht syscall nx pdpe1gb rdtscp lm constant_tsc rep_good nopl xtopology nonstop_tsc cpuid tsc_known_freq pni pclmulqdq ssse3 fma cx16 pcid sse4_1 sse4_2 x2apic movbe popcnt aes xsave avx f16c rdrand hypervisor lahf_lm abm invpcid_single ssbd ibrs ibpb stibp fsgsbase tsc_adjust bmi1 avx2 smep bmi2 erms invpcid xsaveopt arat md_clear arch_capabilities\n",
            "bugs\t\t: cpu_meltdown spectre_v1 spectre_v2 spec_store_bypass l1tf mds swapgs\n",
            "bogomips\t: 4600.00\n",
            "clflush size\t: 64\n",
            "cache_alignment\t: 64\n",
            "address sizes\t: 46 bits physical, 48 bits virtual\n",
            "power management:\n",
            "\n",
            "processor\t: 1\n",
            "vendor_id\t: GenuineIntel\n",
            "cpu family\t: 6\n",
            "model\t\t: 63\n",
            "model name\t: Intel(R) Xeon(R) CPU @ 2.30GHz\n",
            "stepping\t: 0\n",
            "microcode\t: 0x1\n",
            "cpu MHz\t\t: 2300.000\n",
            "cache size\t: 46080 KB\n",
            "physical id\t: 0\n",
            "siblings\t: 2\n",
            "core id\t\t: 0\n",
            "cpu cores\t: 1\n",
            "apicid\t\t: 1\n",
            "initial apicid\t: 1\n",
            "fpu\t\t: yes\n",
            "fpu_exception\t: yes\n",
            "cpuid level\t: 13\n",
            "wp\t\t: yes\n",
            "flags\t\t: fpu vme de pse tsc msr pae mce cx8 apic sep mtrr pge mca cmov pat pse36 clflush mmx fxsr sse sse2 ss ht syscall nx pdpe1gb rdtscp lm constant_tsc rep_good nopl xtopology nonstop_tsc cpuid tsc_known_freq pni pclmulqdq ssse3 fma cx16 pcid sse4_1 sse4_2 x2apic movbe popcnt aes xsave avx f16c rdrand hypervisor lahf_lm abm invpcid_single ssbd ibrs ibpb stibp fsgsbase tsc_adjust bmi1 avx2 smep bmi2 erms invpcid xsaveopt arat md_clear arch_capabilities\n",
            "bugs\t\t: cpu_meltdown spectre_v1 spectre_v2 spec_store_bypass l1tf mds swapgs\n",
            "bogomips\t: 4600.00\n",
            "clflush size\t: 64\n",
            "cache_alignment\t: 64\n",
            "address sizes\t: 46 bits physical, 48 bits virtual\n",
            "power management:\n",
            "\n"
          ],
          "name": "stdout"
        }
      ]
    },
    {
      "cell_type": "code",
      "metadata": {
        "id": "MlMejg-bGRxa",
        "colab_type": "code",
        "colab": {
          "base_uri": "https://localhost:8080/",
          "height": 35
        },
        "outputId": "cef5d299-dfcc-4b71-9202-84fa34acb429"
      },
      "source": [
        "import torch\n",
        "print(torch.__version__)"
      ],
      "execution_count": 5,
      "outputs": [
        {
          "output_type": "stream",
          "text": [
            "1.4.0\n"
          ],
          "name": "stdout"
        }
      ]
    },
    {
      "cell_type": "code",
      "metadata": {
        "id": "jAn4caYkJDAo",
        "colab_type": "code",
        "colab": {
          "base_uri": "https://localhost:8080/",
          "height": 98
        },
        "outputId": "8911fbe9-a0c6-4c31-d47f-468aba39127d"
      },
      "source": [
        "import tensorflow\n",
        "print(tensorflow.__version__)"
      ],
      "execution_count": 6,
      "outputs": [
        {
          "output_type": "display_data",
          "data": {
            "text/html": [
              "<p style=\"color: red;\">\n",
              "The default version of TensorFlow in Colab will soon switch to TensorFlow 2.x.<br>\n",
              "We recommend you <a href=\"https://www.tensorflow.org/guide/migrate\" target=\"_blank\">upgrade</a> now \n",
              "or ensure your notebook will continue to use TensorFlow 1.x via the <code>%tensorflow_version 1.x</code> magic:\n",
              "<a href=\"https://colab.research.google.com/notebooks/tensorflow_version.ipynb\" target=\"_blank\">more info</a>.</p>\n"
            ],
            "text/plain": [
              "<IPython.core.display.HTML object>"
            ]
          },
          "metadata": {
            "tags": []
          }
        },
        {
          "output_type": "stream",
          "text": [
            "1.15.0\n"
          ],
          "name": "stdout"
        }
      ]
    },
    {
      "cell_type": "markdown",
      "metadata": {
        "id": "PlXbhiTZKFy7",
        "colab_type": "text"
      },
      "source": [
        "Data Frame Masking"
      ]
    },
    {
      "cell_type": "code",
      "metadata": {
        "id": "kIdFqUQQKKyF",
        "colab_type": "code",
        "colab": {
          "base_uri": "https://localhost:8080/",
          "height": 225
        },
        "outputId": "487349a8-9727-4673-e732-2768517593bb"
      },
      "source": [
        "import numpy as np\n",
        "import pandas as pd\n",
        "\n",
        "df = pd.DataFrame(np.random.randint(1,25, (5, 5)), index=[0,1,2,3,4], columns=[\"A\", \"B\", \"C\", \"D\", \"F\"])\n",
        "print(df) #print for data frame\n",
        "print(df[\"A\"] <=5)\n",
        "#print(df.query(\"A <=5 and B <=8\"))"
      ],
      "execution_count": 31,
      "outputs": [
        {
          "output_type": "stream",
          "text": [
            "    A   B   C   D   F\n",
            "0   1  12  16   5   1\n",
            "1  17  16   2  10  10\n",
            "2  23  17  12  14  12\n",
            "3  20  22   1   7  18\n",
            "4   2   5  24  14  17\n",
            "0     True\n",
            "1    False\n",
            "2    False\n",
            "3    False\n",
            "4     True\n",
            "Name: A, dtype: bool\n"
          ],
          "name": "stdout"
        }
      ]
    },
    {
      "cell_type": "markdown",
      "metadata": {
        "id": "aAhL3KPQekzU",
        "colab_type": "text"
      },
      "source": [
        "PANDAS"
      ]
    },
    {
      "cell_type": "code",
      "metadata": {
        "id": "wyvKX7I2eojW",
        "colab_type": "code",
        "colab": {
          "base_uri": "https://localhost:8080/",
          "height": 35
        },
        "outputId": "ab85b530-fff6-4872-eef7-667291a539d4"
      },
      "source": [
        "import pandas as pd\n",
        "\n",
        "array = pd.Series(['Apple', 'Banana', 'Carrot'], index=['a','b','c'])\n",
        "\n",
        "print(array['b'])"
      ],
      "execution_count": 33,
      "outputs": [
        {
          "output_type": "stream",
          "text": [
            "Banana\n"
          ],
          "name": "stdout"
        }
      ]
    },
    {
      "cell_type": "code",
      "metadata": {
        "id": "Tv9HNjtNfZAD",
        "colab_type": "code",
        "colab": {
          "base_uri": "https://localhost:8080/",
          "height": 35
        },
        "outputId": "e6a02f02-c4b9-4309-f829-13fee509cade"
      },
      "source": [
        "import pandas as pd\n",
        "\n",
        "dict = {\n",
        "    'a': 'Apple',\n",
        "    'b': 'Banana',\n",
        "    'c': 'Carrot'\n",
        "}\n",
        "array = pd.Series(dict)\n",
        "print(array['a'])"
      ],
      "execution_count": 34,
      "outputs": [
        {
          "output_type": "stream",
          "text": [
            "Apple\n"
          ],
          "name": "stdout"
        }
      ]
    },
    {
      "cell_type": "code",
      "metadata": {
        "id": "gXyy-rBLgCTm",
        "colab_type": "code",
        "colab": {
          "base_uri": "https://localhost:8080/",
          "height": 86
        },
        "outputId": "a725b748-17e5-459a-fe04-c8e6960eaf8c"
      },
      "source": [
        "import pandas as pd\n",
        "\n",
        "word_dict = {\n",
        "    'Apple': 'AAA',\n",
        "    'Banana': 'BBB',\n",
        "    'Carrot': 'CCC'\n",
        "}\n",
        "\n",
        "frequency_dict = {\n",
        "    'Apple': 3,\n",
        "    'Banana': 5,\n",
        "    'Carrot': 7\n",
        "}\n",
        "\n",
        "word = pd.Series(word_dict)\n",
        "frequency = pd.Series(frequent_dict)\n",
        "\n",
        "summary = pd.DataFrame({\n",
        "    'word': word,\n",
        "    'frequency': frequency\n",
        "})\n",
        "\n",
        "print(summary)"
      ],
      "execution_count": 39,
      "outputs": [
        {
          "output_type": "stream",
          "text": [
            "       word  frequency\n",
            "Apple   AAA          3\n",
            "Banana  BBB          5\n",
            "Carrot  CCC          7\n"
          ],
          "name": "stdout"
        }
      ]
    },
    {
      "cell_type": "markdown",
      "metadata": {
        "id": "2FoSfEHEUn5W",
        "colab_type": "text"
      },
      "source": [
        "ycha_20200219"
      ]
    },
    {
      "cell_type": "code",
      "metadata": {
        "id": "Eo_gFDHmUrcr",
        "colab_type": "code",
        "colab": {
          "base_uri": "https://localhost:8080/",
          "height": 207
        },
        "outputId": "44015368-1a4b-4642-f43e-380ee89f1052"
      },
      "source": [
        "import pandas as pd\n",
        "\n",
        "word_dict = {\n",
        "    'Apple': '사과',\n",
        "    'Banana': '바나나',\n",
        "    'Carrot': '당근',\n",
        "    'Durian': '두리안'\n",
        "}\n",
        "\n",
        "frequency_dict = {\n",
        "    'Apple': 3,\n",
        "    'Banana': 5,\n",
        "    'Carrot': 7,\n",
        "    'Durian': 2\n",
        "}\n",
        "\n",
        "importance_dict = {\n",
        "    'Apple': 3,\n",
        "    'Banana': 2,\n",
        "    'Carrot': 1,\n",
        "    'Durian': 1\n",
        "}\n",
        "\n",
        "word = pd.Series(word_dict)\n",
        "frequency = pd.Series(frequency_dict)\n",
        "importance = pd.Series(importance_dict)\n",
        "\n",
        "summary = pd.DataFrame({\n",
        "    'word': word,\n",
        "    'frequency': frequency,\n",
        "    'importance': importance\n",
        "})\n",
        "\n",
        "print(summary)\n",
        "print(summary.loc['Banana':'Carrot', 'importance':])\n",
        "print(summary.iloc[1:3, 2:])"
      ],
      "execution_count": 3,
      "outputs": [
        {
          "output_type": "stream",
          "text": [
            "       word  frequency  importance\n",
            "Apple    사과          3           3\n",
            "Banana  바나나          5           2\n",
            "Carrot   당근          7           1\n",
            "Durian  두리안          2           1\n",
            "        importance\n",
            "Banana           2\n",
            "Carrot           1\n",
            "        importance\n",
            "Banana           2\n",
            "Carrot           1\n"
          ],
          "name": "stdout"
        }
      ]
    },
    {
      "cell_type": "code",
      "metadata": {
        "id": "5R71OKoZWvto",
        "colab_type": "code",
        "colab": {
          "base_uri": "https://localhost:8080/",
          "height": 288
        },
        "outputId": "9c9f9682-bc5a-4485-a782-9e14b0c166b5"
      },
      "source": [
        "import pandas as pd\n",
        "import numpy as np\n",
        "\n",
        "dates = pd.date_range('1/1/2000', periods=8)\n",
        "df = pd.DataFrame(np.random.randn(8, 4),\n",
        "                          index=dates, columns=['A',  'B',  'C',  'D'])\n",
        "df"
      ],
      "execution_count": 11,
      "outputs": [
        {
          "output_type": "execute_result",
          "data": {
            "text/html": [
              "<div>\n",
              "<style scoped>\n",
              "    .dataframe tbody tr th:only-of-type {\n",
              "        vertical-align: middle;\n",
              "    }\n",
              "\n",
              "    .dataframe tbody tr th {\n",
              "        vertical-align: top;\n",
              "    }\n",
              "\n",
              "    .dataframe thead th {\n",
              "        text-align: right;\n",
              "    }\n",
              "</style>\n",
              "<table border=\"1\" class=\"dataframe\">\n",
              "  <thead>\n",
              "    <tr style=\"text-align: right;\">\n",
              "      <th></th>\n",
              "      <th>A</th>\n",
              "      <th>B</th>\n",
              "      <th>C</th>\n",
              "      <th>D</th>\n",
              "    </tr>\n",
              "  </thead>\n",
              "  <tbody>\n",
              "    <tr>\n",
              "      <th>2000-01-01</th>\n",
              "      <td>-0.068784</td>\n",
              "      <td>-1.170632</td>\n",
              "      <td>-0.238127</td>\n",
              "      <td>-2.190186</td>\n",
              "    </tr>\n",
              "    <tr>\n",
              "      <th>2000-01-02</th>\n",
              "      <td>-0.169698</td>\n",
              "      <td>-0.169869</td>\n",
              "      <td>0.741024</td>\n",
              "      <td>-0.460418</td>\n",
              "    </tr>\n",
              "    <tr>\n",
              "      <th>2000-01-03</th>\n",
              "      <td>0.129067</td>\n",
              "      <td>-0.292968</td>\n",
              "      <td>0.316829</td>\n",
              "      <td>0.697955</td>\n",
              "    </tr>\n",
              "    <tr>\n",
              "      <th>2000-01-04</th>\n",
              "      <td>-0.126754</td>\n",
              "      <td>0.406021</td>\n",
              "      <td>0.055326</td>\n",
              "      <td>-0.949620</td>\n",
              "    </tr>\n",
              "    <tr>\n",
              "      <th>2000-01-05</th>\n",
              "      <td>1.641721</td>\n",
              "      <td>0.060765</td>\n",
              "      <td>0.567669</td>\n",
              "      <td>-0.098675</td>\n",
              "    </tr>\n",
              "    <tr>\n",
              "      <th>2000-01-06</th>\n",
              "      <td>1.516984</td>\n",
              "      <td>-0.571486</td>\n",
              "      <td>0.192723</td>\n",
              "      <td>2.482658</td>\n",
              "    </tr>\n",
              "    <tr>\n",
              "      <th>2000-01-07</th>\n",
              "      <td>0.018454</td>\n",
              "      <td>0.957380</td>\n",
              "      <td>0.250982</td>\n",
              "      <td>0.213190</td>\n",
              "    </tr>\n",
              "    <tr>\n",
              "      <th>2000-01-08</th>\n",
              "      <td>1.573258</td>\n",
              "      <td>0.602373</td>\n",
              "      <td>-0.032395</td>\n",
              "      <td>0.868018</td>\n",
              "    </tr>\n",
              "  </tbody>\n",
              "</table>\n",
              "</div>"
            ],
            "text/plain": [
              "                   A         B         C         D\n",
              "2000-01-01 -0.068784 -1.170632 -0.238127 -2.190186\n",
              "2000-01-02 -0.169698 -0.169869  0.741024 -0.460418\n",
              "2000-01-03  0.129067 -0.292968  0.316829  0.697955\n",
              "2000-01-04 -0.126754  0.406021  0.055326 -0.949620\n",
              "2000-01-05  1.641721  0.060765  0.567669 -0.098675\n",
              "2000-01-06  1.516984 -0.571486  0.192723  2.482658\n",
              "2000-01-07  0.018454  0.957380  0.250982  0.213190\n",
              "2000-01-08  1.573258  0.602373 -0.032395  0.868018"
            ]
          },
          "metadata": {
            "tags": []
          },
          "execution_count": 11
        }
      ]
    },
    {
      "cell_type": "code",
      "metadata": {
        "id": "o5oA4lC7ZBtQ",
        "colab_type": "code",
        "colab": {
          "base_uri": "https://localhost:8080/",
          "height": 302
        },
        "outputId": "3fdb451b-be2c-45ad-fbf5-176009e02d6f"
      },
      "source": [
        "from pandas import Series, DataFrame\n",
        "\n",
        "daeshin = {'open':  [11650, 11100, 11200, 11100, 11000],\n",
        "           'high':  [12100, 11800, 11200, 11100, 11150],\n",
        "           'low' :  [11600, 11050, 10900, 10950, 10900],\n",
        "           'close': [11900, 11600, 11000, 11100, 11050]}\n",
        "\n",
        "daeshin_day = DataFrame(daeshin)\n",
        "print(daeshin_day)\n",
        "daeshin_day"
      ],
      "execution_count": 15,
      "outputs": [
        {
          "output_type": "stream",
          "text": [
            "    open   high    low  close\n",
            "0  11650  12100  11600  11900\n",
            "1  11100  11800  11050  11600\n",
            "2  11200  11200  10900  11000\n",
            "3  11100  11100  10950  11100\n",
            "4  11000  11150  10900  11050\n"
          ],
          "name": "stdout"
        },
        {
          "output_type": "execute_result",
          "data": {
            "text/html": [
              "<div>\n",
              "<style scoped>\n",
              "    .dataframe tbody tr th:only-of-type {\n",
              "        vertical-align: middle;\n",
              "    }\n",
              "\n",
              "    .dataframe tbody tr th {\n",
              "        vertical-align: top;\n",
              "    }\n",
              "\n",
              "    .dataframe thead th {\n",
              "        text-align: right;\n",
              "    }\n",
              "</style>\n",
              "<table border=\"1\" class=\"dataframe\">\n",
              "  <thead>\n",
              "    <tr style=\"text-align: right;\">\n",
              "      <th></th>\n",
              "      <th>open</th>\n",
              "      <th>high</th>\n",
              "      <th>low</th>\n",
              "      <th>close</th>\n",
              "    </tr>\n",
              "  </thead>\n",
              "  <tbody>\n",
              "    <tr>\n",
              "      <th>0</th>\n",
              "      <td>11650</td>\n",
              "      <td>12100</td>\n",
              "      <td>11600</td>\n",
              "      <td>11900</td>\n",
              "    </tr>\n",
              "    <tr>\n",
              "      <th>1</th>\n",
              "      <td>11100</td>\n",
              "      <td>11800</td>\n",
              "      <td>11050</td>\n",
              "      <td>11600</td>\n",
              "    </tr>\n",
              "    <tr>\n",
              "      <th>2</th>\n",
              "      <td>11200</td>\n",
              "      <td>11200</td>\n",
              "      <td>10900</td>\n",
              "      <td>11000</td>\n",
              "    </tr>\n",
              "    <tr>\n",
              "      <th>3</th>\n",
              "      <td>11100</td>\n",
              "      <td>11100</td>\n",
              "      <td>10950</td>\n",
              "      <td>11100</td>\n",
              "    </tr>\n",
              "    <tr>\n",
              "      <th>4</th>\n",
              "      <td>11000</td>\n",
              "      <td>11150</td>\n",
              "      <td>10900</td>\n",
              "      <td>11050</td>\n",
              "    </tr>\n",
              "  </tbody>\n",
              "</table>\n",
              "</div>"
            ],
            "text/plain": [
              "    open   high    low  close\n",
              "0  11650  12100  11600  11900\n",
              "1  11100  11800  11050  11600\n",
              "2  11200  11200  10900  11000\n",
              "3  11100  11100  10950  11100\n",
              "4  11000  11150  10900  11050"
            ]
          },
          "metadata": {
            "tags": []
          },
          "execution_count": 15
        }
      ]
    },
    {
      "cell_type": "code",
      "metadata": {
        "id": "TuWIchM1c_M2",
        "colab_type": "code",
        "colab": {
          "base_uri": "https://localhost:8080/",
          "height": 35
        },
        "outputId": "82d519da-0190-43fb-ad9c-af20bae3f96f"
      },
      "source": [
        "import numpy as np\n",
        "a = np.arange(15).reshape(3, 5)\n",
        "\n",
        "a.shape"
      ],
      "execution_count": 22,
      "outputs": [
        {
          "output_type": "execute_result",
          "data": {
            "text/plain": [
              "(3, 5)"
            ]
          },
          "metadata": {
            "tags": []
          },
          "execution_count": 22
        }
      ]
    },
    {
      "cell_type": "code",
      "metadata": {
        "id": "VNInIwyBIfwv",
        "colab_type": "code",
        "colab": {
          "base_uri": "https://localhost:8080/",
          "height": 168
        },
        "outputId": "20e68490-31bc-42c3-8636-7f6fab4ed0a6"
      },
      "source": [
        "from IPython.display import display\n",
        "import numpy as np\n",
        "import pandas as pd\n",
        "\n",
        "#my_2darray = np.array([[1,2,3],[4,5,6]])\n",
        "#display(pd.DataFrame(my_2darray))\n",
        "\n",
        "#my_dict = {\"a\": ['1', '3'], \"b\": ['1', '2'], \"c\": ['2', '4']}\n",
        "#display(pd.DataFrame(my_dict))\n",
        "#df = pd.DataFrame(my_dict)\n",
        "#df\n",
        "\n",
        "#my_df = pd.DataFrame(data=[4,5,6,7,8], index=range(0,5), columns=['A'])\n",
        "#display(pd.DataFrame(my_df))\n",
        "#my_df\n",
        "\n",
        "my_series = pd.Series({\"UK\":\"London\", \"India\":\"New Delhi\", \"United States\":\"Washington\", \"Belgium\":\"Brussels\"})\n",
        "#display(pd.DataFrame(my_series))\n",
        "df = pd.DataFrame(my_series)\n",
        "df"
      ],
      "execution_count": 1,
      "outputs": [
        {
          "output_type": "execute_result",
          "data": {
            "text/html": [
              "<div>\n",
              "<style scoped>\n",
              "    .dataframe tbody tr th:only-of-type {\n",
              "        vertical-align: middle;\n",
              "    }\n",
              "\n",
              "    .dataframe tbody tr th {\n",
              "        vertical-align: top;\n",
              "    }\n",
              "\n",
              "    .dataframe thead th {\n",
              "        text-align: right;\n",
              "    }\n",
              "</style>\n",
              "<table border=\"1\" class=\"dataframe\">\n",
              "  <thead>\n",
              "    <tr style=\"text-align: right;\">\n",
              "      <th></th>\n",
              "      <th>0</th>\n",
              "    </tr>\n",
              "  </thead>\n",
              "  <tbody>\n",
              "    <tr>\n",
              "      <th>UK</th>\n",
              "      <td>London</td>\n",
              "    </tr>\n",
              "    <tr>\n",
              "      <th>India</th>\n",
              "      <td>New Delhi</td>\n",
              "    </tr>\n",
              "    <tr>\n",
              "      <th>United States</th>\n",
              "      <td>Washington</td>\n",
              "    </tr>\n",
              "    <tr>\n",
              "      <th>Belgium</th>\n",
              "      <td>Brussels</td>\n",
              "    </tr>\n",
              "  </tbody>\n",
              "</table>\n",
              "</div>"
            ],
            "text/plain": [
              "                        0\n",
              "UK                 London\n",
              "India           New Delhi\n",
              "United States  Washington\n",
              "Belgium          Brussels"
            ]
          },
          "metadata": {
            "tags": []
          },
          "execution_count": 1
        }
      ]
    },
    {
      "cell_type": "code",
      "metadata": {
        "id": "A-2ncZ_Ij3N-",
        "colab_type": "code",
        "colab": {
          "base_uri": "https://localhost:8080/",
          "height": 168
        },
        "outputId": "9d796e4e-ddb4-41be-b188-65c0cb4655eb"
      },
      "source": [
        "import numpy as np\n",
        "import pandas as pd\n",
        "\n",
        "sdata = {\"KIM\":222, \"CHO\":333, \"PARK\":111, \"NNN\":555}\n",
        "aaa = pd.Series(sdata)\n",
        "aaa.name = \"Family\"\n",
        "aaa.index.name = \"Name\"\n",
        "aaa.index = [\"AAA\",\"BBB\",\"CCC\",\"DDD\"]\n",
        "#aaa = pd.Series([4,7,-5,3], index=[\"a\", \"b\", \"c\", \"d\"])\n",
        "#aaa.values\n",
        "#aaa.index\n",
        "#aaa.dtypes\n",
        "#aaa\n",
        "display(pd.DataFrame(aaa))"
      ],
      "execution_count": 16,
      "outputs": [
        {
          "output_type": "display_data",
          "data": {
            "text/html": [
              "<div>\n",
              "<style scoped>\n",
              "    .dataframe tbody tr th:only-of-type {\n",
              "        vertical-align: middle;\n",
              "    }\n",
              "\n",
              "    .dataframe tbody tr th {\n",
              "        vertical-align: top;\n",
              "    }\n",
              "\n",
              "    .dataframe thead th {\n",
              "        text-align: right;\n",
              "    }\n",
              "</style>\n",
              "<table border=\"1\" class=\"dataframe\">\n",
              "  <thead>\n",
              "    <tr style=\"text-align: right;\">\n",
              "      <th></th>\n",
              "      <th>Family</th>\n",
              "    </tr>\n",
              "  </thead>\n",
              "  <tbody>\n",
              "    <tr>\n",
              "      <th>AAA</th>\n",
              "      <td>222</td>\n",
              "    </tr>\n",
              "    <tr>\n",
              "      <th>BBB</th>\n",
              "      <td>333</td>\n",
              "    </tr>\n",
              "    <tr>\n",
              "      <th>CCC</th>\n",
              "      <td>111</td>\n",
              "    </tr>\n",
              "    <tr>\n",
              "      <th>DDD</th>\n",
              "      <td>555</td>\n",
              "    </tr>\n",
              "  </tbody>\n",
              "</table>\n",
              "</div>"
            ],
            "text/plain": [
              "     Family\n",
              "AAA     222\n",
              "BBB     333\n",
              "CCC     111\n",
              "DDD     555"
            ]
          },
          "metadata": {
            "tags": []
          }
        }
      ]
    },
    {
      "cell_type": "code",
      "metadata": {
        "id": "ID5FqXa2p_1W",
        "colab_type": "code",
        "colab": {
          "base_uri": "https://localhost:8080/",
          "height": 288
        },
        "outputId": "f5f0bb8d-6762-498d-fd7b-f6d41b70b7b7"
      },
      "source": [
        "data = {\"name\": [\"kilho\",\"kilho\",\"kilho\",\"Charles\",\"Charles\"],\n",
        "          \"year\": [2014, 2015, 2016, 2015, 2016],\n",
        "          \"points\": [1.5, 1.7, 3.6, 2.4, 2.9]\n",
        "        }\n",
        "df = pd.DataFrame(data)\n",
        "\n",
        "df.index.name = \"Num\"\n",
        "df.columns.name = \"Info\"\n",
        "df.describe()"
      ],
      "execution_count": 25,
      "outputs": [
        {
          "output_type": "execute_result",
          "data": {
            "text/html": [
              "<div>\n",
              "<style scoped>\n",
              "    .dataframe tbody tr th:only-of-type {\n",
              "        vertical-align: middle;\n",
              "    }\n",
              "\n",
              "    .dataframe tbody tr th {\n",
              "        vertical-align: top;\n",
              "    }\n",
              "\n",
              "    .dataframe thead th {\n",
              "        text-align: right;\n",
              "    }\n",
              "</style>\n",
              "<table border=\"1\" class=\"dataframe\">\n",
              "  <thead>\n",
              "    <tr style=\"text-align: right;\">\n",
              "      <th>Info</th>\n",
              "      <th>year</th>\n",
              "      <th>points</th>\n",
              "    </tr>\n",
              "  </thead>\n",
              "  <tbody>\n",
              "    <tr>\n",
              "      <th>count</th>\n",
              "      <td>5.00000</td>\n",
              "      <td>5.000000</td>\n",
              "    </tr>\n",
              "    <tr>\n",
              "      <th>mean</th>\n",
              "      <td>2015.20000</td>\n",
              "      <td>2.420000</td>\n",
              "    </tr>\n",
              "    <tr>\n",
              "      <th>std</th>\n",
              "      <td>0.83666</td>\n",
              "      <td>0.864292</td>\n",
              "    </tr>\n",
              "    <tr>\n",
              "      <th>min</th>\n",
              "      <td>2014.00000</td>\n",
              "      <td>1.500000</td>\n",
              "    </tr>\n",
              "    <tr>\n",
              "      <th>25%</th>\n",
              "      <td>2015.00000</td>\n",
              "      <td>1.700000</td>\n",
              "    </tr>\n",
              "    <tr>\n",
              "      <th>50%</th>\n",
              "      <td>2015.00000</td>\n",
              "      <td>2.400000</td>\n",
              "    </tr>\n",
              "    <tr>\n",
              "      <th>75%</th>\n",
              "      <td>2016.00000</td>\n",
              "      <td>2.900000</td>\n",
              "    </tr>\n",
              "    <tr>\n",
              "      <th>max</th>\n",
              "      <td>2016.00000</td>\n",
              "      <td>3.600000</td>\n",
              "    </tr>\n",
              "  </tbody>\n",
              "</table>\n",
              "</div>"
            ],
            "text/plain": [
              "Info         year    points\n",
              "count     5.00000  5.000000\n",
              "mean   2015.20000  2.420000\n",
              "std       0.83666  0.864292\n",
              "min    2014.00000  1.500000\n",
              "25%    2015.00000  1.700000\n",
              "50%    2015.00000  2.400000\n",
              "75%    2016.00000  2.900000\n",
              "max    2016.00000  3.600000"
            ]
          },
          "metadata": {
            "tags": []
          },
          "execution_count": 25
        }
      ]
    },
    {
      "cell_type": "markdown",
      "metadata": {
        "id": "4r9lza5XglHH",
        "colab_type": "text"
      },
      "source": [
        "20200221"
      ]
    },
    {
      "cell_type": "code",
      "metadata": {
        "colab_type": "code",
        "id": "C2yXZuaNQwON",
        "colab": {
          "base_uri": "https://localhost:8080/",
          "height": 69
        },
        "outputId": "f2cc7b48-8e8b-4336-92b3-574f87cc21fb"
      },
      "source": [
        "%time aaa = sum(range(500))\n",
        "aaa"
      ],
      "execution_count": 1,
      "outputs": [
        {
          "output_type": "stream",
          "text": [
            "CPU times: user 10 µs, sys: 0 ns, total: 10 µs\n",
            "Wall time: 13.1 µs\n"
          ],
          "name": "stdout"
        },
        {
          "output_type": "execute_result",
          "data": {
            "text/plain": [
              "124750"
            ]
          },
          "metadata": {
            "tags": []
          },
          "execution_count": 1
        }
      ]
    },
    {
      "cell_type": "code",
      "metadata": {
        "id": "aPJuijt_QCCZ",
        "colab_type": "code",
        "colab": {
          "base_uri": "https://localhost:8080/",
          "height": 35
        },
        "outputId": "de754d94-38cd-4751-b27f-397eaf0cb9a1"
      },
      "source": [
        "import numpy as np\n",
        "\n",
        "data1 = [6,7.5,8,0,1]\n",
        "arr1 = np.array(data1)\n",
        "arr1"
      ],
      "execution_count": 3,
      "outputs": [
        {
          "output_type": "execute_result",
          "data": {
            "text/plain": [
              "array([6. , 7.5, 8. , 0. , 1. ])"
            ]
          },
          "metadata": {
            "tags": []
          },
          "execution_count": 3
        }
      ]
    },
    {
      "cell_type": "code",
      "metadata": {
        "id": "htosQQh1RZzj",
        "colab_type": "code",
        "colab": {
          "base_uri": "https://localhost:8080/",
          "height": 35
        },
        "outputId": "c93a5867-4379-4b7e-e924-59bde4c6c580"
      },
      "source": [
        "arr1.shape"
      ],
      "execution_count": 4,
      "outputs": [
        {
          "output_type": "execute_result",
          "data": {
            "text/plain": [
              "(5,)"
            ]
          },
          "metadata": {
            "tags": []
          },
          "execution_count": 4
        }
      ]
    },
    {
      "cell_type": "code",
      "metadata": {
        "id": "-mNpoY6IRrQ7",
        "colab_type": "code",
        "colab": {
          "base_uri": "https://localhost:8080/",
          "height": 52
        },
        "outputId": "364f6f4b-933c-4dd5-9127-802966364f3b"
      },
      "source": [
        "data2 = [ [1,2,3,4],\n",
        "             [5,6,7,8] ]\n",
        "arr2 = np.array(data2)             \n",
        "arr2"
      ],
      "execution_count": 5,
      "outputs": [
        {
          "output_type": "execute_result",
          "data": {
            "text/plain": [
              "array([[1, 2, 3, 4],\n",
              "       [5, 6, 7, 8]])"
            ]
          },
          "metadata": {
            "tags": []
          },
          "execution_count": 5
        }
      ]
    },
    {
      "cell_type": "code",
      "metadata": {
        "id": "eomGH-xESG5n",
        "colab_type": "code",
        "colab": {
          "base_uri": "https://localhost:8080/",
          "height": 35
        },
        "outputId": "8753eee7-9b50-4ded-c297-b3d567e92261"
      },
      "source": [
        "arr2.shape"
      ],
      "execution_count": 6,
      "outputs": [
        {
          "output_type": "execute_result",
          "data": {
            "text/plain": [
              "(2, 4)"
            ]
          },
          "metadata": {
            "tags": []
          },
          "execution_count": 6
        }
      ]
    },
    {
      "cell_type": "code",
      "metadata": {
        "id": "RXDJ3k-OScZM",
        "colab_type": "code",
        "colab": {
          "base_uri": "https://localhost:8080/",
          "height": 69
        },
        "outputId": "223e0ab3-4358-4e7c-b06f-8738de187388"
      },
      "source": [
        "np.zeros((3,6))"
      ],
      "execution_count": 7,
      "outputs": [
        {
          "output_type": "execute_result",
          "data": {
            "text/plain": [
              "array([[0., 0., 0., 0., 0., 0.],\n",
              "       [0., 0., 0., 0., 0., 0.],\n",
              "       [0., 0., 0., 0., 0., 0.]])"
            ]
          },
          "metadata": {
            "tags": []
          },
          "execution_count": 7
        }
      ]
    },
    {
      "cell_type": "code",
      "metadata": {
        "id": "QazX87WWSnIz",
        "colab_type": "code",
        "colab": {
          "base_uri": "https://localhost:8080/",
          "height": 35
        },
        "outputId": "1c88a709-0fc4-4a9a-d637-5f775c8ff1c1"
      },
      "source": [
        "np.ones((10))"
      ],
      "execution_count": 9,
      "outputs": [
        {
          "output_type": "execute_result",
          "data": {
            "text/plain": [
              "array([1., 1., 1., 1., 1., 1., 1., 1., 1., 1.])"
            ]
          },
          "metadata": {
            "tags": []
          },
          "execution_count": 9
        }
      ]
    },
    {
      "cell_type": "code",
      "metadata": {
        "id": "iSEjPHZpS2nQ",
        "colab_type": "code",
        "colab": {
          "base_uri": "https://localhost:8080/",
          "height": 35
        },
        "outputId": "4de902a9-f724-4c37-e787-5596eb36b27b"
      },
      "source": [
        "np.arange(15)"
      ],
      "execution_count": 11,
      "outputs": [
        {
          "output_type": "execute_result",
          "data": {
            "text/plain": [
              "array([ 0,  1,  2,  3,  4,  5,  6,  7,  8,  9, 10, 11, 12, 13, 14])"
            ]
          },
          "metadata": {
            "tags": []
          },
          "execution_count": 11
        }
      ]
    },
    {
      "cell_type": "code",
      "metadata": {
        "id": "qmNUA_dZTDLg",
        "colab_type": "code",
        "colab": {
          "base_uri": "https://localhost:8080/",
          "height": 35
        },
        "outputId": "e3b85b2e-5653-4274-ded2-cf280729607b"
      },
      "source": [
        "arr2.dtype"
      ],
      "execution_count": 14,
      "outputs": [
        {
          "output_type": "execute_result",
          "data": {
            "text/plain": [
              "dtype('int64')"
            ]
          },
          "metadata": {
            "tags": []
          },
          "execution_count": 14
        }
      ]
    },
    {
      "cell_type": "code",
      "metadata": {
        "id": "Zv7tjbB8WXV9",
        "colab_type": "code",
        "colab": {
          "base_uri": "https://localhost:8080/",
          "height": 35
        },
        "outputId": "c2f649d7-5b88-4830-d69f-c6920dd5c92b"
      },
      "source": [
        "data2d =  [ [1,2,3,4],\n",
        "             [5,6,7,8],\n",
        "             [9,10,11,12],\n",
        "             [13,14,15,16] \n",
        "         ]\n",
        "arr2d = np.array (data2d)\n",
        "\n",
        "#arr2d [2, : ]\n",
        "#arr2d [ 1, 2 ]"
      ],
      "execution_count": 33,
      "outputs": [
        {
          "output_type": "execute_result",
          "data": {
            "text/plain": [
              "7"
            ]
          },
          "metadata": {
            "tags": []
          },
          "execution_count": 33
        }
      ]
    },
    {
      "cell_type": "code",
      "metadata": {
        "id": "CWbgxjYrabww",
        "colab_type": "code",
        "colab": {
          "base_uri": "https://localhost:8080/",
          "height": 86
        },
        "outputId": "30aedbce-cab8-429a-d0e3-f8980cc9dfe6"
      },
      "source": [
        "arr2d[ :2, 1:3 ] = 0\n",
        "arr2d"
      ],
      "execution_count": 34,
      "outputs": [
        {
          "output_type": "execute_result",
          "data": {
            "text/plain": [
              "array([[ 1,  0,  0,  4],\n",
              "       [ 5,  0,  0,  8],\n",
              "       [ 9, 10, 11, 12],\n",
              "       [13, 14, 15, 16]])"
            ]
          },
          "metadata": {
            "tags": []
          },
          "execution_count": 34
        }
      ]
    },
    {
      "cell_type": "code",
      "metadata": {
        "id": "CHBBmWuTbzlQ",
        "colab_type": "code",
        "colab": {
          "base_uri": "https://localhost:8080/",
          "height": 138
        },
        "outputId": "12d7007b-d981-435e-d7b7-45e3e5093e80"
      },
      "source": [
        "names = np.array([\"1,2,3\",\"3,4,5\",\"CCC\",\"DD\",\"EEEEEEEE\",\"FFFF\",\"GGGGG\"])\n",
        "data = np.random.randn(7,5)\n",
        "names\n",
        "data"
      ],
      "execution_count": 44,
      "outputs": [
        {
          "output_type": "execute_result",
          "data": {
            "text/plain": [
              "array([[-1.02022635, -0.40943796, -0.61188784, -1.09897818, -0.00496054],\n",
              "       [ 1.02457496, -0.57887827,  1.23470563,  0.27131444, -0.76281228],\n",
              "       [-0.67754979,  0.70050749,  0.73365878, -1.11859664, -1.15193023],\n",
              "       [-0.2878266 , -0.49138983,  0.23063955,  0.20136967,  1.15141834],\n",
              "       [-2.73123652,  0.35974258,  0.25726625,  0.29499018,  1.20913989],\n",
              "       [ 0.20374596,  0.71522169, -1.0852277 ,  0.6723068 ,  0.45652124],\n",
              "       [-0.60153717,  0.20725566,  0.09655339, -0.752033  , -0.61754605]])"
            ]
          },
          "metadata": {
            "tags": []
          },
          "execution_count": 44
        }
      ]
    },
    {
      "cell_type": "code",
      "metadata": {
        "id": "TwQrUOy7dY8L",
        "colab_type": "code",
        "colab": {
          "base_uri": "https://localhost:8080/",
          "height": 35
        },
        "outputId": "3f1e7f79-9caa-448c-a214-7bd466f51b3b"
      },
      "source": [
        "data [names == \"FFFF\", : ]"
      ],
      "execution_count": 53,
      "outputs": [
        {
          "output_type": "execute_result",
          "data": {
            "text/plain": [
              "array([[ 0.20374596,  0.71522169, -1.0852277 ,  0.6723068 ,  0.45652124]])"
            ]
          },
          "metadata": {
            "tags": []
          },
          "execution_count": 53
        }
      ]
    },
    {
      "cell_type": "code",
      "metadata": {
        "id": "Ca0BRE3_gXDo",
        "colab_type": "code",
        "colab": {
          "base_uri": "https://localhost:8080/",
          "height": 52
        },
        "outputId": "c59e926a-228d-4056-d540-eb838611d2ec"
      },
      "source": [
        "data[:,3]"
      ],
      "execution_count": 54,
      "outputs": [
        {
          "output_type": "execute_result",
          "data": {
            "text/plain": [
              "array([-1.09897818,  0.27131444, -1.11859664,  0.20136967,  0.29499018,\n",
              "        0.6723068 , -0.752033  ])"
            ]
          },
          "metadata": {
            "tags": []
          },
          "execution_count": 54
        }
      ]
    },
    {
      "cell_type": "code",
      "metadata": {
        "id": "EEPPIRsIgfQ_",
        "colab_type": "code",
        "colab": {
          "base_uri": "https://localhost:8080/",
          "height": 35
        },
        "outputId": "ca98c19c-c5c2-4b2c-8f45-5b998dc6785e"
      },
      "source": [
        "data[:,3] <0"
      ],
      "execution_count": 55,
      "outputs": [
        {
          "output_type": "execute_result",
          "data": {
            "text/plain": [
              "array([ True, False,  True, False, False, False,  True])"
            ]
          },
          "metadata": {
            "tags": []
          },
          "execution_count": 55
        }
      ]
    },
    {
      "cell_type": "code",
      "metadata": {
        "id": "eJ9YYzuFgw_n",
        "colab_type": "code",
        "colab": {
          "base_uri": "https://localhost:8080/",
          "height": 138
        },
        "outputId": "1df3a963-12ce-4f2c-851f-07c6cc89ffe9"
      },
      "source": [
        "data [ data[ : , 3 ]<0, : ] =1\n",
        "data"
      ],
      "execution_count": 66,
      "outputs": [
        {
          "output_type": "execute_result",
          "data": {
            "text/plain": [
              "array([[ 0.        ,  0.        ,  0.        ,  0.        ,  0.        ],\n",
              "       [ 1.02457496, -0.57887827,  1.23470563,  0.27131444, -0.76281228],\n",
              "       [ 0.        ,  0.        ,  0.        ,  0.        ,  0.        ],\n",
              "       [-0.2878266 , -0.49138983,  0.23063955,  0.20136967,  1.15141834],\n",
              "       [-2.73123652,  0.35974258,  0.25726625,  0.29499018,  1.20913989],\n",
              "       [ 0.20374596,  0.71522169, -1.0852277 ,  0.6723068 ,  0.45652124],\n",
              "       [ 0.        ,  0.        ,  0.        ,  0.        ,  0.        ]])"
            ]
          },
          "metadata": {
            "tags": []
          },
          "execution_count": 66
        }
      ]
    },
    {
      "cell_type": "code",
      "metadata": {
        "id": "EOws-9Ioh1dJ",
        "colab_type": "code",
        "colab": {
          "base_uri": "https://localhost:8080/",
          "height": 269
        },
        "outputId": "90f46da0-7fbc-44a1-882c-db0c73a8babc"
      },
      "source": [
        "import numpy as np\n",
        "import matplotlib.pyplot as plt\n",
        "\n",
        "def mandelbrot( h,w, maxit=20 ):\n",
        "    \"\"\"Returns an image of the Mandelbrot fractal of size (h,w).\"\"\"\n",
        "    y,x = np.ogrid[ -1.4:1.4:h*1j, -2:0.8:w*1j ]\n",
        "    c = x+y*1j\n",
        "    z = c\n",
        "    divtime = maxit + np.zeros(z.shape, dtype=int)\n",
        "\n",
        "    for i in range(maxit):\n",
        "        z = z**2 + c\n",
        "        diverge = z*np.conj(z) > 2**2            # who is diverging\n",
        "        div_now = diverge & (divtime==maxit)  # who is diverging now\n",
        "        divtime[div_now] = i                  # note when\n",
        "        z[diverge] = 2                        # avoid diverging too much\n",
        "\n",
        "    return divtime\n",
        "plt.imshow(mandelbrot(400,400))\n",
        "plt.show()\n"
      ],
      "execution_count": 70,
      "outputs": [
        {
          "output_type": "display_data",
          "data": {
            "image/png": "[encoded data removed]",
            "text/plain": [
              "<Figure size 432x288 with 1 Axes>"
            ]
          },
          "metadata": {
            "tags": []
          }
        }
      ]
    },
    {
      "cell_type": "code",
      "metadata": {
        "id": "iQCKgiwl5rmq",
        "colab_type": "code",
        "colab": {}
      },
      "source": [
        ""
      ],
      "execution_count": 0,
      "outputs": []
    }
  ]
}